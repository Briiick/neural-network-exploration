{
 "cells": [
  {
   "cell_type": "code",
   "execution_count": 6,
   "id": "e3572598-ec31-4af4-b8ab-06f2475a2e01",
   "metadata": {},
   "outputs": [],
   "source": [
    "import numpy as np\n",
    "import matplotlib.pyplot as plt"
   ]
  },
  {
   "cell_type": "code",
   "execution_count": 9,
   "id": "435019fa-2f11-421f-8a34-d54b8de7a146",
   "metadata": {},
   "outputs": [],
   "source": [
    "# help from \n",
    "# https://towardsdatascience.com/how-to-build-your-own-neural-network-from-scratch-in-python-68998a08e4f6\n",
    "\n",
    "# define activation function\n",
    "def sigmoid(x):\n",
    "    return 1.0/(1+ np.exp(-x))\n",
    "\n",
    "def sigmoid_derivative(x):\n",
    "    return x * (1.0 - x)\n",
    "\n",
    "# create a class for the NN\n",
    "class NeuralNetwork:\n",
    "    # initialisation of class\n",
    "    def __init__(self, x, y):\n",
    "        self.input = x # set input\n",
    "        self.weights1 = np.random.rand(self.input.shape[1],4) # set initial weights\n",
    "        self.weights2 = np.random.rand(4,1) # set other weights\n",
    "        self.y = y # set up size of output\n",
    "        self.output = np.zeros(y.shape) # set up output\n",
    "        self.loss = [] # set up loss function array\n",
    "    \n",
    "    # feed forward function.\n",
    "    # this is wehre the matrix multiplication occurs to pass forward the weights\n",
    "    # we assume our bias is 0.\n",
    "    def feedforward(self):\n",
    "        self.layer1 = sigmoid(np.dot(self.input, self.weights1))\n",
    "        self.output = sigmoid(np.dot(self.layer1, self.weights2))\n",
    "        self.loss.append(self.MSE())\n",
    "        \n",
    "    # we need a way to evaluate our predictions\n",
    "    # so we use a loss function (Mean Squared Error)\n",
    "    def MSE(self):\n",
    "        total = 0 # keeping track of sum\n",
    "        n = len(self.y) \n",
    "        for i in range(0,n):\n",
    "            difference_squared = (self.y[i] - self.output[i])**2 # y - p\n",
    "            total = total + difference_squared  # taking a sum of all the squared differences\n",
    "            MSE = total/n  # average\n",
    "        return MSE[0]\n",
    "        \n",
    "    # we need to propagate error back\n",
    "    # so we build backprop function to adjust weights and biases\n",
    "    def backprop(self):\n",
    "        # application of the chain rule to find derivative of the loss function with respect to weights2 and weights1\n",
    "        d_weights2 = np.dot(self.layer1.T, (2*(self.y - self.output) * sigmoid_derivative(self.output)))\n",
    "        d_weights1 = np.dot(self.input.T,  (np.dot(2*(self.y - self.output) * sigmoid_derivative(self.output), self.weights2.T) * sigmoid_derivative(self.layer1)))\n",
    "\n",
    "        # update the weights with the derivative (slope) of the loss function\n",
    "        self.weights1 += d_weights1\n",
    "        self.weights2 += d_weights2\n",
    "    \n",
    "    def plot_loss_per_iteration(self):\n",
    "        a4_dims = (11.7, 8.27)\n",
    "        iterations = [i for i in range(len(self.loss))]\n",
    "        plt.figure(figsize=a4_dims)\n",
    "        plt.plot(iterations, self.loss)\n",
    "        plt.suptitle('Loss per iteration', fontsize=12)"
   ]
  },
  {
   "cell_type": "code",
   "execution_count": 10,
   "id": "5131134e-1737-40af-b773-82fc35cc78b5",
   "metadata": {},
   "outputs": [
    {
     "name": "stdout",
     "output_type": "stream",
     "text": [
      "[[0.01318097]\n",
      " [0.98109687]\n",
      " [0.97649172]\n",
      " [0.0234396 ]]\n"
     ]
    },
    {
     "data": {
      "image/png": "[encoded data removed]",
      "text/plain": [
       "<Figure size 842.4x595.44 with 1 Axes>"
      ]
     },
     "metadata": {
      "needs_background": "light"
     },
     "output_type": "display_data"
    }
   ],
   "source": [
    "X = np.array([[0,0,1],\n",
    "              [0,1,1],\n",
    "              [1,0,1],\n",
    "              [1,1,1]])\n",
    "y = np.array([[0],[1],[1],[0]])\n",
    "nn = NeuralNetwork(X,y)\n",
    "\n",
    "for i in range(1500):\n",
    "    nn.feedforward()\n",
    "    nn.backprop()\n",
    "    \n",
    "print(nn.output)\n",
    "nn.plot_loss_per_iteration()"
   ]
  },
  {
   "cell_type": "code",
   "execution_count": null,
   "id": "643c4a1f-d851-4aec-b29a-ca61e2dd5d55",
   "metadata": {},
   "outputs": [],
   "source": []
  }
 ],
 "metadata": {
  "kernelspec": {
   "display_name": "Python 3 (ipykernel)",
   "language": "python",
   "name": "python3"
  },
  "language_info": {
   "codemirror_mode": {
    "name": "ipython",
    "version": 3
   },
   "file_extension": ".py",
   "mimetype": "text/x-python",
   "name": "python",
   "nbconvert_exporter": "python",
   "pygments_lexer": "ipython3",
   "version": "3.8.8"
  }
 },
 "nbformat": 4,
 "nbformat_minor": 5
}
