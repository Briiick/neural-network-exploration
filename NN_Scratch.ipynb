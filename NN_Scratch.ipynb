{
 "cells": [
  {
   "cell_type": "markdown",
   "id": "cfdeaad6-0342-4923-8769-e593f213f76c",
   "metadata": {},
   "source": [
    "# Building A Neural Network From Scratch"
   ]
  },
  {
   "cell_type": "markdown",
   "id": "93057ad3-25b4-4ad2-81fe-d1fd6cdd478e",
   "metadata": {},
   "source": [
    "## Deep Learning Tutorial: Assignment 1\n",
    "#### Alexander Bricken\n",
    "---"
   ]
  },
  {
   "cell_type": "markdown",
   "id": "49744481-ee19-4429-bb92-bf00d47d813a",
   "metadata": {},
   "source": [
    "**Specifications:**\n",
    "\n",
    "Implement a full, working fully-connected (feed-forward) deep neural network from scratch using only numpy, including:\n",
    "\n",
    "- Dense layers\n",
    "- Activation layers (sigmoid/softmax in case of classification)\n",
    "- Optimizer\n",
    "- Loss function (e.g., stochastic gradient descent and binary cross-entropy for binary classification).\n",
    "\n",
    "Finally, include runtime and results on a public dataset (MNIST? CIFAR10?).\n",
    "\n",
    "---"
   ]
  },
  {
   "cell_type": "markdown",
   "id": "0da98221-25a3-4b34-8ab4-7cc67fe7ac56",
   "metadata": {},
   "source": [
    "#### The Bigger Picture\n",
    "\n",
    "- Input data with first layer.\n",
    "- Data passes forward layer by layer until output.\n",
    "- Error is calculated after output as a scalar.\n",
    "- Backpropagate, adjusting parameters by using the chain rule.\n",
    "- Iterate."
   ]
  },
  {
   "cell_type": "markdown",
   "id": "284b512a-f20c-4e7e-b1d6-8f1ed63fb69a",
   "metadata": {},
   "source": [
    "## Import Libaries"
   ]
  },
  {
   "cell_type": "code",
   "execution_count": 46,
   "id": "b0dcaaa7-ef03-40ad-860d-3072f864999f",
   "metadata": {},
   "outputs": [],
   "source": [
    "import numpy as np\n",
    "import matplotlib.pyplot as plt\n",
    "import seaborn as sns\n",
    "import tqdm\n",
    "from keras.datasets import mnist\n",
    "from keras.utils import np_utils\n",
    "import time\n",
    "from sklearn.metrics import classification_report\n",
    "from sklearn.metrics import confusion_matrix\n",
    "from sklearn.model_selection import train_test_split\n",
    "import pandas as pd"
   ]
  },
  {
   "cell_type": "markdown",
   "id": "4344b775-b2cd-4f58-8540-31df8b42647a",
   "metadata": {},
   "source": [
    "## Final Neural Network Class Implementation"
   ]
  },
  {
   "cell_type": "markdown",
   "id": "eecac706-68aa-449e-b49b-fb0ef3794835",
   "metadata": {},
   "source": [
    "#### Defining Utility Functions"
   ]
  },
  {
   "cell_type": "code",
   "execution_count": 2,
   "id": "5eb3a104-62e0-4274-b265-81d13fa0ec41",
   "metadata": {},
   "outputs": [],
   "source": [
    "### ACTIVATION FUNCTIONS\n",
    "\n",
    "# Leaky ReLU layer\n",
    "# we use leaky here to avoid vanishing gradient problem\n",
    "def leaky_relu(x):\n",
    "    return np.where(x > 0, x, x * 0.001)\n",
    "    \n",
    "def leaky_relu_derivative(x):\n",
    "    return np.where(x < 0, 0.001, 1)\n",
    "\n",
    "# Tanh layer\n",
    "def tanh(x):\n",
    "    return np.tanh(x);\n",
    "\n",
    "def tanh_derivative(x):\n",
    "    return 1-np.tanh(x)**2;\n",
    "\n",
    "# for final softmax layer\n",
    "def softmax(z):\n",
    "    \"\"\"Compute softmax values for each sets of scores in x.\"\"\"\n",
    "    e = np.exp(z)\n",
    "    return e / e.sum()\n",
    "\n",
    "def softmax_derivative(x):\n",
    "    \"\"\"Compute softmax values for each sets of scores in x.\"\"\"\n",
    "    e_x = np.exp(x - np.max(x))\n",
    "    return e_x / e_x.sum(axis=0)\n",
    "\n",
    "\n",
    "### LOSS FUNCTIONS\n",
    "\n",
    "def mse(y_true, y_pred):\n",
    "    return np.mean(np.power(y_true-y_pred, 2));\n",
    "\n",
    "def mse_prime(y_true, y_pred):\n",
    "    return 2*(y_pred-y_true)/y_true.size;"
   ]
  },
  {
   "cell_type": "markdown",
   "id": "2cd84b76-a16f-4ff3-a68e-703dc3f7cf4a",
   "metadata": {},
   "source": [
    "#### Defining NN Classes"
   ]
  },
  {
   "cell_type": "code",
   "execution_count": 3,
   "id": "71349ab7-3703-47be-9cf2-cad31e8bbb42",
   "metadata": {},
   "outputs": [],
   "source": [
    "class LayerCreate():\n",
    "    \"\"\"\n",
    "    Overarching class that hosts functions for fully connected layers.\n",
    "    \"\"\"\n",
    "    def __init__(self, input_size, output_size):\n",
    "        \"\"\"\n",
    "        Initialise NN with input, output, weights, and biases.\n",
    "        \"\"\"\n",
    "        self.input = None \n",
    "        self.output = None\n",
    "        self.weights = np.random.rand(input_size, output_size) - 0.5\n",
    "        self.bias = np.random.rand(1, output_size) - 0.5\n",
    "\n",
    "    def feedforward(self, input_data):\n",
    "        \"\"\"\n",
    "        Feed forward anything that is input.\n",
    "        \"\"\"\n",
    "        self.input = input_data\n",
    "        # compute output by taking the dot product of the input \n",
    "        # and the respective weights + bias\n",
    "        self.output = self.bias + np.dot(self.input, self.weights) \n",
    "        return self.output\n",
    "\n",
    "    def backprop(self, output_error, learning_rate):\n",
    "        \"\"\"\n",
    "        Backpropagate by calculating the previous layer error and weight error.\n",
    "        Then update parameters before returning input error.\n",
    "        \"\"\"\n",
    "        input_error = np.dot(output_error, self.weights.T)\n",
    "        weights_error = np.dot(self.input.T, output_error)\n",
    "\n",
    "        # update weights and biases using learning rate\n",
    "        # from gradient descent\n",
    "        self.weights -= learning_rate * weights_error\n",
    "        self.bias -= learning_rate * output_error\n",
    "        return input_error"
   ]
  },
  {
   "cell_type": "code",
   "execution_count": 4,
   "id": "62cd0151-d1cf-44e2-97fe-4270ecedd6cf",
   "metadata": {},
   "outputs": [],
   "source": [
    "class ActivationLayer():\n",
    "    \"\"\"\n",
    "    This class allows us to create the non-linear function \n",
    "    that we apply over the input data coming to a particular neuron\n",
    "    and the output from the function will be sent to the neurons present\n",
    "    in the next layer as input.\n",
    "    \"\"\"\n",
    "    def __init__(self, activation_function, activation_derivative):\n",
    "        self.input = None \n",
    "        self.output = None\n",
    "        self.activation = activation_function\n",
    "        self.activation_derivative = activation_derivative\n",
    "\n",
    "    def feedforward(self, input_data):\n",
    "        \"\"\"\n",
    "        Returns the activation function's output.\n",
    "        \"\"\"\n",
    "        self.input = input_data\n",
    "        self.output = self.activation(self.input)\n",
    "        return self.output\n",
    "\n",
    "    def backprop(self, output_error, learning_rate):\n",
    "        \"\"\"\n",
    "        Uses the derivative of the activation function for the chain rule.\n",
    "        \"\"\"\n",
    "        return self.activation_derivative(self.input) * output_error"
   ]
  },
  {
   "cell_type": "code",
   "execution_count": 5,
   "id": "163cc50f-b16b-4618-8050-c3ab2b1648ec",
   "metadata": {},
   "outputs": [],
   "source": [
    "class NeuralNetwork:\n",
    "    \"\"\"\n",
    "    Neural Network creation class. \n",
    "    Interacts with other classes to add layers, train, and predict with model.\n",
    "    \"\"\"\n",
    "    def __init__(self):\n",
    "        # store layers and loss\n",
    "        self.layers = []\n",
    "        self.loss = None\n",
    "        self.loss_derivative = None\n",
    "        self.loss_history = []\n",
    "\n",
    "    def add(self, layer):\n",
    "        \"\"\"\n",
    "        Add a layer to the network.\n",
    "        \"\"\"\n",
    "        self.layers.append(layer)\n",
    "\n",
    "    def use(self, loss, loss_derivative):\n",
    "        \"\"\"\n",
    "        Update loss.\n",
    "        \"\"\"\n",
    "        self.loss = loss\n",
    "        self.loss_derivative = loss_derivative\n",
    "\n",
    "    def predict(self, input_data):\n",
    "        \"\"\"\n",
    "        Predict output\n",
    "        \"\"\"\n",
    "        result = []\n",
    "        # run network over all data\n",
    "        for i in range(len(input_data)):\n",
    "            # feedforward\n",
    "            output = input_data[i]\n",
    "            for layer in self.layers:\n",
    "                output = layer.feedforward(output) # for each layer we feedforward\n",
    "            result.append(output) # and then append the result\n",
    "\n",
    "        return result # return the result of the prediction.\n",
    "\n",
    "    # train the network\n",
    "    def fit(self, X_train, y_train, epochs, learning_rate):\n",
    "        \"\"\"\n",
    "        Train the network using data.\n",
    "        \"\"\"\n",
    "\n",
    "        # Training model here\n",
    "        for i in tqdm.tqdm(range(epochs)):\n",
    "            err = 0\n",
    "            for j in range(len(X_train)):\n",
    "                # feedforward\n",
    "                output = X_train[j]\n",
    "                for layer in self.layers:\n",
    "                    output = layer.feedforward(output)\n",
    "\n",
    "                # compute loss for storing\n",
    "                err += self.loss(y_train[j], output)\n",
    "\n",
    "                # backprop\n",
    "                error = self.loss_derivative(y_train[j], output)\n",
    "                for layer in reversed(self.layers):\n",
    "                    error = layer.backprop(error, learning_rate)\n",
    "                    \n",
    "                # update learning_rate\n",
    "\n",
    "            # calculate average error on all samples\n",
    "            err /= len(X_train)\n",
    "            self.loss_history.append(err)\n",
    "            #print('epoch %d/%d   error=%f' % (i+1, epochs, err))\n",
    "    \n",
    "    def plot_loss_per_iteration(self):\n",
    "        iterations = [i for i in range(len(self.loss_history))]\n",
    "        plt.figure(figsize=(12, 8))\n",
    "        plt.plot(iterations, self.loss_history)\n",
    "        plt.suptitle('Loss per iteration', fontsize=12)"
   ]
  },
  {
   "cell_type": "markdown",
   "id": "aa7eaa33-fbbc-4c79-8e18-43c36953e52a",
   "metadata": {},
   "source": [
    "#### Testing the Neural Network on XOR Data"
   ]
  },
  {
   "cell_type": "code",
   "execution_count": 6,
   "id": "d80a7c7e-7d98-4eb2-8f4c-729a240e8008",
   "metadata": {},
   "outputs": [],
   "source": [
    "# XOR training data\n",
    "X_train = np.array([[[0,0]], [[0,1]], [[1,0]], [[1,1]]])\n",
    "y_train = np.array([[[0]], [[1]], [[1]], [[0]]])"
   ]
  },
  {
   "cell_type": "code",
   "execution_count": 7,
   "id": "ffd5aa74-b157-4296-8c64-38028d653c84",
   "metadata": {},
   "outputs": [],
   "source": [
    "# network\n",
    "model = NeuralNetwork()\n",
    "model.add(LayerCreate(2, 3))\n",
    "model.add(ActivationLayer(tanh, tanh_derivative))\n",
    "model.add(LayerCreate(3, 1))\n",
    "model.add(ActivationLayer(tanh, tanh_derivative))"
   ]
  },
  {
   "cell_type": "code",
   "execution_count": 8,
   "id": "142cbdab-8aef-4589-ad35-77f4bc5265d1",
   "metadata": {
    "tags": []
   },
   "outputs": [
    {
     "name": "stderr",
     "output_type": "stream",
     "text": [
      "100%|███████████████████████████████████████████████████████████████████████████████████████████████| 1000/1000 [00:00<00:00, 4552.22it/s]\n"
     ]
    },
    {
     "name": "stdout",
     "output_type": "stream",
     "text": [
      "[array([[0.00089275]]), array([[0.97829716]]), array([[0.97821619]]), array([[-0.00143665]])]\n"
     ]
    },
    {
     "data": {
      "image/png": "[encoded data removed]",
      "text/plain": [
       "<Figure size 864x576 with 1 Axes>"
      ]
     },
     "metadata": {
      "needs_background": "light"
     },
     "output_type": "display_data"
    }
   ],
   "source": [
    "# train\n",
    "model.use(mse, mse_prime)\n",
    "model.fit(X_train, y_train, epochs=1000, learning_rate=0.1)\n",
    "model.plot_loss_per_iteration()\n",
    "\n",
    "# test\n",
    "out = model.predict(X_train)\n",
    "print(out)"
   ]
  },
  {
   "cell_type": "markdown",
   "id": "68814781-187d-4265-8773-8b647ebf9378",
   "metadata": {},
   "source": [
    "#### Running on MNIST"
   ]
  },
  {
   "cell_type": "code",
   "execution_count": 9,
   "id": "cac1e1ee-0cb5-48d5-9247-f911632c45bc",
   "metadata": {},
   "outputs": [],
   "source": [
    "# test on MNIST data\n",
    "(X_train, y_train), (X_test, y_test) = mnist.load_data()"
   ]
  },
  {
   "cell_type": "code",
   "execution_count": 10,
   "id": "1f4a496e-9dae-4e89-9486-09274bcb832d",
   "metadata": {},
   "outputs": [
    {
     "name": "stdout",
     "output_type": "stream",
     "text": [
      "Training data shape:  (60000, 28, 28)\n",
      "Test data shape (10000, 28, 28)\n"
     ]
    }
   ],
   "source": [
    "print(\"Training data shape: \", X_train.shape) # (60000, 28, 28) -- 60000 images, each 28x28 pixels\n",
    "print(\"Test data shape\", X_test.shape) # (10000, 28, 28) -- 10000 images, each 28x28"
   ]
  },
  {
   "cell_type": "code",
   "execution_count": 11,
   "id": "feee4697-a9ae-4756-8342-6a7dd842d213",
   "metadata": {},
   "outputs": [
    {
     "data": {
      "image/png": "[encoded data removed]",
      "text/plain": [
       "<Figure size 432x288 with 1 Axes>"
      ]
     },
     "metadata": {
      "needs_background": "light"
     },
     "output_type": "display_data"
    },
    {
     "data": {
      "image/png": "[encoded data removed]",
      "text/plain": [
       "<Figure size 432x288 with 1 Axes>"
      ]
     },
     "metadata": {
      "needs_background": "light"
     },
     "output_type": "display_data"
    },
    {
     "data": {
      "image/png": "[encoded data removed]",
      "text/plain": [
       "<Figure size 432x288 with 1 Axes>"
      ]
     },
     "metadata": {
      "needs_background": "light"
     },
     "output_type": "display_data"
    },
    {
     "data": {
      "image/png": "[encoded data removed]",
      "text/plain": [
       "<Figure size 432x288 with 1 Axes>"
      ]
     },
     "metadata": {
      "needs_background": "light"
     },
     "output_type": "display_data"
    },
    {
     "data": {
      "image/png": "[encoded data removed]",
      "text/plain": [
       "<Figure size 432x288 with 1 Axes>"
      ]
     },
     "metadata": {
      "needs_background": "light"
     },
     "output_type": "display_data"
    },
    {
     "data": {
      "image/png": "[encoded data removed]",
      "text/plain": [
       "<Figure size 432x288 with 1 Axes>"
      ]
     },
     "metadata": {
      "needs_background": "light"
     },
     "output_type": "display_data"
    },
    {
     "data": {
      "image/png": "[encoded data removed]",
      "text/plain": [
       "<Figure size 432x288 with 1 Axes>"
      ]
     },
     "metadata": {
      "needs_background": "light"
     },
     "output_type": "display_data"
    },
    {
     "data": {
      "image/png": "[encoded data removed]",
      "text/plain": [
       "<Figure size 432x288 with 1 Axes>"
      ]
     },
     "metadata": {
      "needs_background": "light"
     },
     "output_type": "display_data"
    },
    {
     "data": {
      "image/png": "[encoded data removed]",
      "text/plain": [
       "<Figure size 432x288 with 1 Axes>"
      ]
     },
     "metadata": {
      "needs_background": "light"
     },
     "output_type": "display_data"
    }
   ],
   "source": [
    "for i in range(9):  \n",
    "    plt.subplot(330 + 1 + i)\n",
    "    plt.imshow(X_train[i], cmap=plt.get_cmap('gray'))\n",
    "    plt.show()"
   ]
  },
  {
   "cell_type": "code",
   "execution_count": 12,
   "id": "2dea0ee5-eabe-4bbb-86e9-2618ab3a227b",
   "metadata": {},
   "outputs": [],
   "source": [
    "def reshape_data(data):\n",
    "    \"\"\"\n",
    "    Reshape input data and normalise for better model.\n",
    "    \"\"\"\n",
    "    data = data.reshape(data.shape[0], 1, 28*28)\n",
    "    data = data.astype('float32')\n",
    "    data /= 255\n",
    "    return data\n",
    "\n",
    "X_train = reshape_data(X_train)\n",
    "X_test = reshape_data(X_test)\n",
    "\n",
    "# categorical one-hot\n",
    "y_train = np_utils.to_categorical(y_train)\n",
    "y_test = np_utils.to_categorical(y_test)"
   ]
  },
  {
   "cell_type": "code",
   "execution_count": 13,
   "id": "64481f50-05c6-48d1-96ab-10ed26998c74",
   "metadata": {},
   "outputs": [],
   "source": [
    "# Network\n",
    "model = NeuralNetwork()\n",
    "model.add(LayerCreate(28*28, 100))\n",
    "model.add(ActivationLayer(tanh, tanh_derivative))\n",
    "model.add(LayerCreate(100, 50))\n",
    "model.add(ActivationLayer(leaky_relu, leaky_relu_derivative))\n",
    "model.add(LayerCreate(50, 10))\n",
    "model.add(ActivationLayer(softmax, softmax_derivative))"
   ]
  },
  {
   "cell_type": "code",
   "execution_count": 14,
   "id": "d47d0f90-0551-4b79-a7b1-73769fa6b4d9",
   "metadata": {},
   "outputs": [
    {
     "name": "stderr",
     "output_type": "stream",
     "text": [
      "100%|█████████████████████████████████████████████████████████████████████████████████████████████████████| 50/50 [08:27<00:00, 10.14s/it]\n"
     ]
    }
   ],
   "source": [
    "# run model on 20000 samples, otherwise will take really long\n",
    "model.use(mse, mse_prime)\n",
    "model.fit(X_train[0:20000], y_train[0:20000], epochs=50, learning_rate=0.1)"
   ]
  },
  {
   "cell_type": "code",
   "execution_count": 15,
   "id": "2c8c4de6-fe83-457f-b76e-a6d4dc2c6698",
   "metadata": {},
   "outputs": [],
   "source": [
    "def classify_pred(arr):\n",
    "    \"\"\"\n",
    "    Run array of probabilities through this to get prediction.\n",
    "    \"\"\"\n",
    "    return np.argmax(arr)"
   ]
  },
  {
   "cell_type": "code",
   "execution_count": 16,
   "id": "3f6fe65a-7bc6-447d-9bbc-6d8d006eceea",
   "metadata": {},
   "outputs": [
    {
     "name": "stdout",
     "output_type": "stream",
     "text": [
      "Predictions:\n",
      "7\n",
      "2\n",
      "1\n",
      "0\n",
      "4\n",
      "True Value:\n",
      "7\n",
      "2\n",
      "1\n",
      "0\n",
      "4\n"
     ]
    }
   ],
   "source": [
    "# test on 5 samples\n",
    "out = model.predict(X_test[0:5])\n",
    "print(\"Predictions:\")\n",
    "for i in out:\n",
    "    temp = classify_pred(i)\n",
    "    print(temp)\n",
    "print(\"True Value:\")\n",
    "for i in y_test[0:5]:\n",
    "    temp = classify_pred(i)\n",
    "    print(temp)"
   ]
  },
  {
   "cell_type": "code",
   "execution_count": 17,
   "id": "7bc20886-4dc2-4bb3-9f31-9430248c7c82",
   "metadata": {},
   "outputs": [],
   "source": [
    "# predict all\n",
    "y_pred_probs = model.predict(X_test)\n",
    "y_pred = []\n",
    "y_true = []\n",
    "for i in range(len(y_pred_probs)):\n",
    "    y_pred.append(classify_pred(y_pred_probs[i]))\n",
    "    y_true.append(classify_pred(y_test[i]))"
   ]
  },
  {
   "cell_type": "code",
   "execution_count": 18,
   "id": "6b7c4591-9d00-4825-a4e3-6811a08ba8d4",
   "metadata": {},
   "outputs": [
    {
     "data": {
      "image/png": "[encoded data removed]",
      "text/plain": [
       "<Figure size 1008x864 with 2 Axes>"
      ]
     },
     "metadata": {
      "needs_background": "light"
     },
     "output_type": "display_data"
    }
   ],
   "source": [
    "#Create the confusion matrix using test data and predictions\n",
    "cm = confusion_matrix(y_true, y_pred)\n",
    "#plot the confusion matrix\n",
    "plt.figure(figsize=(14, 12))\n",
    "ax = plt.subplot()\n",
    "sns.heatmap(cm,annot=True,ax=ax)\n",
    "ax.set_xlabel('Predicted labels')\n",
    "ax.set_ylabel('True labels')\n",
    "ax.set_title('Confusion Matrix')\n",
    "plt.show()"
   ]
  },
  {
   "cell_type": "code",
   "execution_count": 19,
   "id": "ccda5076-7b7a-4758-9243-e115f70fb500",
   "metadata": {},
   "outputs": [
    {
     "name": "stdout",
     "output_type": "stream",
     "text": [
      "Classification report : \n",
      "               precision    recall  f1-score   support\n",
      "\n",
      "           0       0.96      0.98      0.97       980\n",
      "           1       0.99      0.98      0.99      1135\n",
      "           2       0.95      0.97      0.96      1032\n",
      "           3       0.96      0.96      0.96      1010\n",
      "           4       0.97      0.93      0.95       982\n",
      "           5       0.93      0.95      0.94       892\n",
      "           6       0.98      0.96      0.97       958\n",
      "           7       0.98      0.94      0.96      1028\n",
      "           8       0.95      0.90      0.93       974\n",
      "           9       0.89      0.96      0.92      1009\n",
      "\n",
      "    accuracy                           0.96     10000\n",
      "   macro avg       0.96      0.96      0.96     10000\n",
      "weighted avg       0.96      0.96      0.96     10000\n",
      "\n"
     ]
    }
   ],
   "source": [
    "matrix = classification_report(y_true, y_pred, labels=[0,1,2,3,4,5,6,7,8,9])\n",
    "print('Classification report : \\n',matrix)"
   ]
  },
  {
   "cell_type": "markdown",
   "id": "1e92ba45-c137-4fbd-a160-3fa46f7d0a74",
   "metadata": {},
   "source": [
    "We can see from our results that we have a 96% overall accuracy with just 20000 samples trained on (with a potential for 60000 if given more computational power/implement a different gradient descent method that is more efficient). \n",
    "\n",
    "It took 8 minutes 27 seconds to run this model, which is a good time considering it is a neural network built from scratch without much optimization."
   ]
  },
  {
   "cell_type": "markdown",
   "id": "34a73b47-f8c7-42a9-9716-25a68e0ef6c8",
   "metadata": {},
   "source": [
    "## References\n",
    "\n"
   ]
  },
  {
   "cell_type": "markdown",
   "id": "dca6104a-c9fd-4874-bb79-c2cc60d2b722",
   "metadata": {},
   "source": [
    "Aflack, O. (2018). Neural Network from scratch in Python. Retrieved from https://towardsdatascience.com/math-neural-network-from-scratch-in-python-d6da9f29ce65\n",
    "\n",
    "Bhandari, A. (2020). Everything you Should Know about Confusion Matrix for Machine Learning. Retrieved from https://www.analyticsvidhya.com/blog/2020/04/confusion-matrix-machine-learning/\n",
    "\n",
    "Brownlee, J. (2020). What Is Argmax in Machine Learning? Retrieved from https://machinelearningmastery.com/argmax-in-machine-learning/#:~:text=Argmax%20is%20an%20operation%20that,function%20is%20preferred%20in%20practice\n",
    "\n",
    "Hansen, C. (2020). Neural Network From Scratch with NumPy and MNIST. Retrieved from https://mlfromscratch.com/neural-network-tutorial/#/\n",
    "\n",
    "Loy, J. (2018). How to build your own Neural Network from scratch in Python. Retrieved from https://towardsdatascience.com/how-to-build-your-own-neural-network-from-scratch-in-python-68998a08e4f6\n",
    "\n",
    "Minerva IL181 Session 2. (2022). Breakout 2: PCW and Regularization. Retrieved from https://deepnote.com/project/IL181-Session-2-Fundamentals-II-pdyDWwcqQbqegN3EPrtkiw/%2FBreakout_2_Group_1.ipynb/#5cbaacbf-acf8-4adc-939c-2125277aa6d1\n",
    "\n",
    "Ruder, S. (2016). An overview of gradient descent optimization algorithms. Retrieved from https://ruder.io/optimizing-gradient-descent/\n",
    "\n",
    "Skalski, P. (2018). Let’s code a Neural Network in plain NumPy. Retrieved from https://towardsdatascience.com/lets-code-a-neural-network-in-plain-numpy-ae7e74410795\n",
    "\n",
    "Wang, C-F. (2018). Calculating Gradient Descent Manually. Retrieved from https://towardsdatascience.com/calculating-gradient-descent-manually-6d9bee09aa0b"
   ]
  },
  {
   "cell_type": "markdown",
   "id": "092e5f34-b769-4dfb-a469-83f457c48872",
   "metadata": {},
   "source": [
    "---"
   ]
  },
  {
   "cell_type": "markdown",
   "id": "3ced2428-aff5-4488-95d7-5d3e67bb3d0b",
   "metadata": {},
   "source": [
    "## Previous Attempts to Learn"
   ]
  },
  {
   "cell_type": "markdown",
   "id": "d2cf90fd-cf48-4bd3-b751-021f083ce866",
   "metadata": {},
   "source": [
    "### Simple Implementation"
   ]
  },
  {
   "cell_type": "code",
   "execution_count": 489,
   "id": "36ea2e46-f5d2-445e-aff3-79bc612114ec",
   "metadata": {},
   "outputs": [],
   "source": [
    "# using https://towardsdatascience.com/how-to-build-your-own-neural-network-from-scratch-in-python-68998a08e4f6\n",
    "\n",
    "### UTILITY MATHEMATICAL FUNCTIONS\n",
    "\n",
    "# Sigmoid activation function\n",
    "def sigmoid(x):\n",
    "    return 1.0/(1+ np.exp(-x))\n",
    "\n",
    "# Sigmoid derivative for gradient descent in backprop\n",
    "def sigmoid_derivative(x):\n",
    "    return x * (1.0 - x)\n",
    "\n",
    "# for final softmax layer\n",
    "def softmax(z):\n",
    "    \"\"\"Compute softmax values for each sets of scores in x.\"\"\"\n",
    "    print(z)\n",
    "    print(f\"VECTOR: {np.exp(z)}\")\n",
    "    print(f\"SUM: {np.sum(np.exp(z), axis=0)}\")\n",
    "    e_x = np.exp(z - z.max())\n",
    "    return e_x / np.sum(e_x, axis=0)\n",
    "    #return e_z / e_z.sum(axis=0, keepdims=True)\n",
    "\n",
    "def softmax_derivative(x):\n",
    "    \"\"\"Compute softmax values for each sets of scores in x.\"\"\"\n",
    "    e_x = np.exp(x - np.max(x))\n",
    "    return e_x / e_x.sum(axis=0, keepdims=True)\n",
    "\n",
    "# for leaky relu layer\n",
    "# we use leaky here to avoid vanishing gradient problem\n",
    "def leaky_relu(x):\n",
    "    return np.where(x > 0, x, x * 0.001)\n",
    "    \n",
    "def leaky_relu_derivative(x):\n",
    "    return np.where(x < 0, 0.001, 1)\n",
    "\n",
    "# Multi-class cross-entropy loss function\n",
    "def multi_cross_entropy(y_pre, y):\n",
    "    print(y_pre)\n",
    "    loss=-np.sum(y*np.log(y_pre))\n",
    "    return loss/float(y_pre.shape[0])"
   ]
  },
  {
   "cell_type": "code",
   "execution_count": 507,
   "id": "ae153d97-7244-4b3c-9b20-c1767280cf19",
   "metadata": {},
   "outputs": [],
   "source": [
    "### NEURAL NETWORK CLASS\n",
    "class NeuralNetwork:\n",
    "    def __init__(self, x, y, activation_function, af_gradient, loss_function):\n",
    "        # there are 10 different numbers, so we have an input layer of 10.\n",
    "        self.input = x # set input\n",
    "        self.weights1 = np.random.rand(self.input.shape[1],50) # layer 1 weights\n",
    "        self.weights2 = np.random.rand(50,10) # layer 2 weights\n",
    "        self.weights3 = np.random.rand(10,10) # layer 3 weights\n",
    "        self.y = y # output size\n",
    "        self.output = np.zeros(self.y.shape) # set up output\n",
    "        self.activation_function = activation_function\n",
    "        self.loss_function = loss_function\n",
    "        self.af_gradient = af_gradient\n",
    "        self.loss_history = [] # set up loss function array\n",
    "        \n",
    "    def feedforward(self):\n",
    "        \"\"\"\n",
    "        Run weights through activation function in sequence to get to output.\n",
    "        \"\"\"\n",
    "        print(f\"weights1: {self.weights1}\")\n",
    "        self.layer1 = self.activation_function(np.dot(self.input, self.weights1))\n",
    "        print(f\"LAYER1 = {self.layer1}\")\n",
    "        self.layer2 = self.activation_function(np.dot(self.layer1, self.weights2))\n",
    "        self.output = softmax(np.dot(self.layer2, self.weights3))\n",
    "        \n",
    "        # append loss at end out weight passing through NN\n",
    "        self.loss_history.append(self.loss_function(self.output, self.y))\n",
    "    \n",
    "    def backpropagation_gd(self):\n",
    "        \"\"\"\n",
    "        We work backwards, using the chain rule, derivative of activation function, and the transpose of weight matrix\n",
    "        to find the derivative of our loss function. This is using gradient descent.\n",
    "        \"\"\"\n",
    "        # dot product of layer2 weights transposed, with (2*difference between y and output*activation function gradient)\n",
    "        d_weights3 = np.dot(self.layer2.T, (2*(self.y - self.output) * softmax_derivative(self.output)))\n",
    "        # again, chain rule using previous calculations\n",
    "        d_weights2 =  np.dot(self.layer1.T,  (np.dot(2*(self.y - self.output) * self.af_gradient(self.output), self.weights3.T) * self.af_gradient(self.layer2)))\n",
    "        d_weights1 = np.dot(self.input.T,  (np.dot(2*(self.y - self.output) * self.af_gradient(self.output), self.weights2.T) * self.af_gradient(self.layer1)))\n",
    "\n",
    "        # we then update the weights using this derivative of the loss function\n",
    "        self.weights1 += d_weights1\n",
    "        self.weights2 += d_weights2\n",
    "        self.weights3 += d_weights3\n",
    "        \n",
    "    def train(self, iterations):\n",
    "        for i in tqdm.tqdm(range(iterations)):\n",
    "            self.feedforward()\n",
    "            self.backpropagation_gd()\n",
    "            \n",
    "    def plot_loss_per_iteration(self):\n",
    "        a4_dims = (11.7, 8.27)\n",
    "        iterations = [i for i in range(len(self.loss_history))]\n",
    "        plt.figure(figsize=a4_dims)\n",
    "        plt.plot(iterations, self.loss_history)\n",
    "        plt.suptitle('Loss per iteration', fontsize=12)\n",
    "        "
   ]
  },
  {
   "cell_type": "code",
   "execution_count": 524,
   "id": "daaca158-5950-474a-ac66-c0f30d97df62",
   "metadata": {
    "tags": []
   },
   "outputs": [
    {
     "name": "stderr",
     "output_type": "stream",
     "text": [
      "  0%|                                                                                                               | 0/1 [00:00<?, ?it/s]"
     ]
    },
    {
     "name": "stdout",
     "output_type": "stream",
     "text": [
      "weights1: [[0.26792746 0.03642086 0.47690898 ... 0.65241207 0.07678089 0.55353486]\n",
      " [0.1816278  0.24702717 0.229208   ... 0.61497263 0.66308378 0.31710673]\n",
      " [0.76215828 0.15314635 0.14832372 ... 0.64453016 0.98366745 0.65771891]\n",
      " ...\n",
      " [0.46245683 0.01126835 0.8136033  ... 0.72074003 0.9305517  0.56066853]\n",
      " [0.6547219  0.60867753 0.95748858 ... 0.95167416 0.41037387 0.40059171]\n",
      " [0.61931785 0.85277644 0.88905725 ... 0.25479949 0.35958875 0.71718486]]\n",
      "LAYER1 = [[13650.7896587  13383.45236081 14830.74066124 ... 12130.29938744\n",
      "  13830.51447355 12115.71806256]\n",
      " [15081.65269538 15326.19177906 16388.04105355 ... 14009.49503686\n",
      "  15478.29316219 16062.04460395]\n",
      " [10675.39134806  9734.22294266  8787.77052096 ...  9219.73197423\n",
      "   9612.91615525 10010.95867039]\n",
      " ...\n",
      " [11226.08609812 10475.380367   11616.78006219 ... 10086.70737261\n",
      "  10849.2165663  11836.15537543]\n",
      " [10546.61645832 10404.13435608 10785.43955391 ... 10282.50653619\n",
      "  10522.28498636 10489.36078193]\n",
      " [ 9654.20886961 10079.68535625  9914.01157002 ... 10833.1326421\n",
      "  10351.48187351 10125.30918115]]\n",
      "[[1628512.92561829 1749448.34795995 1800145.33856451 ... 1580297.20988735\n",
      "  2101805.63564202 1316524.95663658]\n",
      " [1833382.47565703 1968451.81779936 2026808.43387291 ... 1782182.66957102\n",
      "  2367288.09023992 1482704.31624837]\n",
      " [1150985.25915508 1233759.35420179 1270815.82284408 ... 1115630.65491579\n",
      "  1484996.31213249  928152.45603302]\n",
      " ...\n",
      " [1312907.91214602 1409162.36496874 1451805.51680043 ... 1275705.62968546\n",
      "  1696393.51752882 1062060.05218988]\n",
      " [1204336.25210541 1291917.9292189  1332396.25348196 ... 1172528.72143378\n",
      "  1555643.01080829  974837.47076329]\n",
      " [1228583.46188107 1320063.49123468 1359114.7456319  ... 1195177.31553148\n",
      "  1587425.56254068  994388.81453497]]\n",
      "VECTOR: [[inf inf inf ... inf inf inf]\n",
      " [inf inf inf ... inf inf inf]\n",
      " [inf inf inf ... inf inf inf]\n",
      " ...\n",
      " [inf inf inf ... inf inf inf]\n",
      " [inf inf inf ... inf inf inf]\n",
      " [inf inf inf ... inf inf inf]]\n",
      "SUM: [inf inf inf inf inf inf inf inf inf inf]\n",
      "[[nan nan nan ... nan nan nan]\n",
      " [nan nan nan ... nan nan nan]\n",
      " [nan nan nan ... nan nan nan]\n",
      " ...\n",
      " [nan nan nan ... nan nan nan]\n",
      " [nan nan nan ... nan nan nan]\n",
      " [nan nan nan ... nan nan nan]]\n"
     ]
    },
    {
     "name": "stderr",
     "output_type": "stream",
     "text": [
      "/var/folders/9c/7bqqxzp11xx4mn0mks5l_b3h0000gn/T/ipykernel_3285/2741386404.py:15: RuntimeWarning: overflow encountered in exp\n",
      "  print(f\"VECTOR: {np.exp(z)}\")\n",
      "/var/folders/9c/7bqqxzp11xx4mn0mks5l_b3h0000gn/T/ipykernel_3285/2741386404.py:16: RuntimeWarning: overflow encountered in exp\n",
      "  print(f\"SUM: {np.sum(np.exp(z), axis=0)}\")\n",
      "/var/folders/9c/7bqqxzp11xx4mn0mks5l_b3h0000gn/T/ipykernel_3285/2741386404.py:17: RuntimeWarning: overflow encountered in exp\n",
      "  return np.exp(z) / np.sum(np.exp(z), axis=0)\n",
      "/var/folders/9c/7bqqxzp11xx4mn0mks5l_b3h0000gn/T/ipykernel_3285/2741386404.py:17: RuntimeWarning: invalid value encountered in true_divide\n",
      "  return np.exp(z) / np.sum(np.exp(z), axis=0)\n",
      "100%|███████████████████████████████████████████████████████████████████████████████████████████████████████| 1/1 [00:00<00:00,  1.45it/s]\n"
     ]
    }
   ],
   "source": [
    "nn = NeuralNetwork(X_train, y_train, leaky_relu, leaky_relu_derivative, multi_cross_entropy)\n",
    "nn.train(1)"
   ]
  },
  {
   "cell_type": "code",
   "execution_count": 525,
   "id": "a4f86944-bd04-433e-9c0b-22d50ed937ad",
   "metadata": {},
   "outputs": [
    {
     "name": "stdout",
     "output_type": "stream",
     "text": [
      "[[nan nan nan ... nan nan nan]\n",
      " [nan nan nan ... nan nan nan]\n",
      " [nan nan nan ... nan nan nan]\n",
      " ...\n",
      " [nan nan nan ... nan nan nan]\n",
      " [nan nan nan ... nan nan nan]\n",
      " [nan nan nan ... nan nan nan]]\n"
     ]
    },
    {
     "data": {
      "image/png": "[encoded data removed]",
      "text/plain": [
       "<Figure size 842.4x595.44 with 1 Axes>"
      ]
     },
     "metadata": {
      "needs_background": "light"
     },
     "output_type": "display_data"
    }
   ],
   "source": [
    "print(nn.output)\n",
    "nn.plot_loss_per_iteration()"
   ]
  },
  {
   "cell_type": "code",
   "execution_count": 519,
   "id": "a3641963-f158-4012-8dbc-f572e4f393d2",
   "metadata": {
    "tags": []
   },
   "outputs": [
    {
     "name": "stderr",
     "output_type": "stream",
     "text": [
      "/var/folders/9c/7bqqxzp11xx4mn0mks5l_b3h0000gn/T/ipykernel_3285/2571412226.py:13: RuntimeWarning: overflow encountered in exp\n",
      "  return 1/(1 + np.exp(-x))\n",
      "/var/folders/9c/7bqqxzp11xx4mn0mks5l_b3h0000gn/T/ipykernel_3285/2571412226.py:12: RuntimeWarning: overflow encountered in exp\n",
      "  return (np.exp(-x))/((np.exp(-x)+1)**2)\n",
      "/var/folders/9c/7bqqxzp11xx4mn0mks5l_b3h0000gn/T/ipykernel_3285/2571412226.py:12: RuntimeWarning: overflow encountered in square\n",
      "  return (np.exp(-x))/((np.exp(-x)+1)**2)\n",
      "/var/folders/9c/7bqqxzp11xx4mn0mks5l_b3h0000gn/T/ipykernel_3285/2571412226.py:12: RuntimeWarning: invalid value encountered in true_divide\n",
      "  return (np.exp(-x))/((np.exp(-x)+1)**2)\n"
     ]
    },
    {
     "name": "stdout",
     "output_type": "stream",
     "text": [
      "Epoch: 1, Time Spent: 61.16s, Accuracy: 100.00%\n",
      "Epoch: 2, Time Spent: 123.88s, Accuracy: 100.00%\n",
      "Epoch: 3, Time Spent: 189.94s, Accuracy: 100.00%\n",
      "Epoch: 4, Time Spent: 262.12s, Accuracy: 100.00%\n",
      "Epoch: 5, Time Spent: 327.72s, Accuracy: 100.00%\n",
      "Epoch: 6, Time Spent: 400.28s, Accuracy: 100.00%\n",
      "Epoch: 7, Time Spent: 475.47s, Accuracy: 100.00%\n",
      "Epoch: 8, Time Spent: 536.92s, Accuracy: 100.00%\n",
      "Epoch: 9, Time Spent: 610.13s, Accuracy: 100.00%\n",
      "Epoch: 10, Time Spent: 677.50s, Accuracy: 100.00%\n"
     ]
    }
   ],
   "source": [
    "# from https://mlfromscratch.com/neural-network-tutorial/#/\n",
    "\n",
    "class DeepNeuralNetwork():\n",
    "    def __init__(self, sizes, epochs=10, l_rate=0.001):\n",
    "        self.sizes = sizes\n",
    "        self.epochs = epochs\n",
    "        self.l_rate = l_rate\n",
    "\n",
    "        # we save all parameters in the neural network in this dictionary\n",
    "        self.params = self.initialization()\n",
    "\n",
    "    def sigmoid(self, x, derivative=False):\n",
    "        if derivative:\n",
    "            return (np.exp(-x))/((np.exp(-x)+1)**2)\n",
    "        return 1/(1 + np.exp(-x))\n",
    "\n",
    "    def softmax(self, x, derivative=False):\n",
    "        # Numerically stable with large exponentials\n",
    "        exps = np.exp(x - x.max())\n",
    "        if derivative:\n",
    "            return exps / np.sum(exps, axis=0) * (1 - exps / np.sum(exps, axis=0))\n",
    "        return exps / np.sum(exps, axis=0)\n",
    "\n",
    "    def initialization(self):\n",
    "        # number of nodes in each layer\n",
    "        input_layer=self.sizes[0]\n",
    "        hidden_1=self.sizes[1]\n",
    "        hidden_2=self.sizes[2]\n",
    "        output_layer=self.sizes[3]\n",
    "\n",
    "        params = {\n",
    "            \"W1\":np.random.randn(hidden_1, input_layer) * np.sqrt(1. / hidden_1),\n",
    "            \"W2\":np.random.randn(hidden_2, hidden_1) * np.sqrt(1. / hidden_2),\n",
    "            \"W3\":np.random.randn(output_layer, hidden_2) * np.sqrt(1. / output_layer)\n",
    "        }\n",
    "\n",
    "        return params\n",
    "\n",
    "    def forward_pass(self, x_train):\n",
    "        params = self.params\n",
    "\n",
    "        # input layer activations becomes sample\n",
    "        params['A0'] = x_train\n",
    "\n",
    "        # input layer to hidden layer 1\n",
    "        params['Z1'] = np.dot(params[\"W1\"], params['A0'])\n",
    "        params['A1'] = self.sigmoid(params['Z1'])\n",
    "\n",
    "        # hidden layer 1 to hidden layer 2\n",
    "        params['Z2'] = np.dot(params[\"W2\"], params['A1'])\n",
    "        params['A2'] = self.sigmoid(params['Z2'])\n",
    "\n",
    "        # hidden layer 2 to output layer\n",
    "        params['Z3'] = np.dot(params[\"W3\"], params['A2'])\n",
    "        params['A3'] = self.softmax(params['Z3'])\n",
    "\n",
    "        return params['A3']\n",
    "\n",
    "    def backward_pass(self, y_train, output):\n",
    "        '''\n",
    "            This is the backpropagation algorithm, for calculating the updates\n",
    "            of the neural network's parameters.\n",
    "\n",
    "            Note: There is a stability issue that causes warnings. This is \n",
    "                  caused  by the dot and multiply operations on the huge arrays.\n",
    "                  \n",
    "                  RuntimeWarning: invalid value encountered in true_divide\n",
    "                  RuntimeWarning: overflow encountered in exp\n",
    "                  RuntimeWarning: overflow encountered in square\n",
    "        '''\n",
    "        params = self.params\n",
    "        change_w = {}\n",
    "\n",
    "        # Calculate W3 update\n",
    "        error = 2 * (output - y_train) / output.shape[0] * self.softmax(params['Z3'], derivative=True)\n",
    "        change_w['W3'] = np.outer(error, params['A2'])\n",
    "\n",
    "        # Calculate W2 update\n",
    "        error = np.dot(params['W3'].T, error) * self.sigmoid(params['Z2'], derivative=True)\n",
    "        change_w['W2'] = np.outer(error, params['A1'])\n",
    "\n",
    "        # Calculate W1 update\n",
    "        error = np.dot(params['W2'].T, error) * self.sigmoid(params['Z1'], derivative=True)\n",
    "        change_w['W1'] = np.outer(error, params['A0'])\n",
    "\n",
    "        return change_w\n",
    "\n",
    "    def update_network_parameters(self, changes_to_w):\n",
    "        '''\n",
    "            Update network parameters according to update rule from\n",
    "            Stochastic Gradient Descent.\n",
    "\n",
    "            θ = θ - η * ∇J(x, y), \n",
    "                theta θ:            a network parameter (e.g. a weight w)\n",
    "                eta η:              the learning rate\n",
    "                gradient ∇J(x, y):  the gradient of the objective function,\n",
    "                                    i.e. the change for a specific theta θ\n",
    "        '''\n",
    "        \n",
    "        for key, value in changes_to_w.items():\n",
    "            self.params[key] -= self.l_rate * value\n",
    "\n",
    "    def compute_accuracy(self, x_val, y_val):\n",
    "        '''\n",
    "            This function does a forward pass of x, then checks if the indices\n",
    "            of the maximum value in the output equals the indices in the label\n",
    "            y. Then it sums over each prediction and calculates the accuracy.\n",
    "        '''\n",
    "        predictions = []\n",
    "\n",
    "        for x, y in zip(x_val, y_val):\n",
    "            output = self.forward_pass(x)\n",
    "            pred = np.argmax(output)\n",
    "            predictions.append(pred == np.argmax(y))\n",
    "        \n",
    "        return np.mean(predictions)\n",
    "\n",
    "    def train(self, x_train, y_train, x_val, y_val):\n",
    "        start_time = time.time()\n",
    "        for iteration in range(self.epochs):\n",
    "            for x,y in zip(x_train, y_train):\n",
    "                output = self.forward_pass(x)\n",
    "                changes_to_w = self.backward_pass(y, output)\n",
    "                self.update_network_parameters(changes_to_w)\n",
    "            \n",
    "            accuracy = self.compute_accuracy(x_val, y_val)\n",
    "            print('Epoch: {0}, Time Spent: {1:.2f}s, Accuracy: {2:.2f}%'.format(\n",
    "                iteration+1, time.time() - start_time, accuracy * 100\n",
    "            ))\n",
    "            \n",
    "dnn = DeepNeuralNetwork(sizes=[784, 128, 64, 10])\n",
    "dnn.train(X_train, y_train, X_test, y_test)"
   ]
  },
  {
   "cell_type": "markdown",
   "id": "0498cf78-efe9-4cc4-86e0-af0424c55e22",
   "metadata": {},
   "source": [
    "#### Running on IRIS"
   ]
  },
  {
   "cell_type": "code",
   "execution_count": 52,
   "id": "f65840ed-eb5a-41ff-bb1d-c9dd6fae7ea9",
   "metadata": {},
   "outputs": [],
   "source": [
    "from sklearn import datasets\n",
    "iris = datasets.load_iris()"
   ]
  },
  {
   "cell_type": "code",
   "execution_count": 53,
   "id": "7c326624-92ea-46cc-b186-33ae63d3a1ab",
   "metadata": {},
   "outputs": [],
   "source": [
    "df = pd.DataFrame(data=iris.data, columns=iris.feature_names)"
   ]
  },
  {
   "cell_type": "code",
   "execution_count": 54,
   "id": "11873394-2208-46b5-9dd1-bf99e1cf9aac",
   "metadata": {},
   "outputs": [],
   "source": [
    "df[\"target\"] = iris.target"
   ]
  },
  {
   "cell_type": "code",
   "execution_count": 55,
   "id": "5485b12e-d606-417f-8298-7147bb99e054",
   "metadata": {},
   "outputs": [],
   "source": [
    "X = df.drop(['target'], axis=1)\n",
    "y = df[\"target\"]"
   ]
  },
  {
   "cell_type": "code",
   "execution_count": 56,
   "id": "28734186-42d3-47af-b326-aed4c7da77e1",
   "metadata": {},
   "outputs": [],
   "source": [
    "X_train, X_test, y_train, y_test = train_test_split(X, y, test_size=0.4, random_state=5)"
   ]
  },
  {
   "cell_type": "code",
   "execution_count": 74,
   "id": "5b14e312-62a6-4881-93e8-1b1a370979f3",
   "metadata": {},
   "outputs": [],
   "source": [
    "# Network\n",
    "model = NeuralNetwork()\n",
    "model.add(LayerCreate(4, 16))\n",
    "model.add(ActivationLayer(tanh, tanh_derivative))\n",
    "model.add(LayerCreate(16, 64))\n",
    "model.add(ActivationLayer(leaky_relu, leaky_relu_derivative))\n",
    "model.add(LayerCreate(64, 4))\n",
    "model.add(ActivationLayer(softmax, softmax_derivative))"
   ]
  },
  {
   "cell_type": "code",
   "execution_count": 75,
   "id": "9d451537-328a-4e00-9e6e-c73b2277b513",
   "metadata": {},
   "outputs": [
    {
     "name": "stderr",
     "output_type": "stream",
     "text": [
      "  0%|                                                                                                              | 0/15 [00:00<?, ?it/s]\n"
     ]
    },
    {
     "ename": "ValueError",
     "evalue": "shapes (4,) and (1,16) not aligned: 4 (dim 0) != 1 (dim 0)",
     "output_type": "error",
     "traceback": [
      "\u001b[0;31m---------------------------------------------------------------------------\u001b[0m",
      "\u001b[0;31mValueError\u001b[0m                                Traceback (most recent call last)",
      "\u001b[0;32m/var/folders/9c/7bqqxzp11xx4mn0mks5l_b3h0000gn/T/ipykernel_8987/4150190733.py\u001b[0m in \u001b[0;36m<module>\u001b[0;34m\u001b[0m\n\u001b[1;32m      1\u001b[0m \u001b[0mmodel\u001b[0m\u001b[0;34m.\u001b[0m\u001b[0muse\u001b[0m\u001b[0;34m(\u001b[0m\u001b[0mmse\u001b[0m\u001b[0;34m,\u001b[0m \u001b[0mmse_prime\u001b[0m\u001b[0;34m)\u001b[0m\u001b[0;34m\u001b[0m\u001b[0;34m\u001b[0m\u001b[0m\n\u001b[0;32m----> 2\u001b[0;31m \u001b[0mmodel\u001b[0m\u001b[0;34m.\u001b[0m\u001b[0mfit\u001b[0m\u001b[0;34m(\u001b[0m\u001b[0mnp\u001b[0m\u001b[0;34m.\u001b[0m\u001b[0marray\u001b[0m\u001b[0;34m(\u001b[0m\u001b[0mX_train\u001b[0m\u001b[0;34m)\u001b[0m\u001b[0;34m,\u001b[0m \u001b[0mnp\u001b[0m\u001b[0;34m.\u001b[0m\u001b[0marray\u001b[0m\u001b[0;34m(\u001b[0m\u001b[0my_train\u001b[0m\u001b[0;34m)\u001b[0m\u001b[0;34m,\u001b[0m \u001b[0mepochs\u001b[0m\u001b[0;34m=\u001b[0m\u001b[0;36m15\u001b[0m\u001b[0;34m,\u001b[0m \u001b[0mlearning_rate\u001b[0m\u001b[0;34m=\u001b[0m\u001b[0;36m0.1\u001b[0m\u001b[0;34m)\u001b[0m\u001b[0;34m\u001b[0m\u001b[0;34m\u001b[0m\u001b[0m\n\u001b[0m",
      "\u001b[0;32m/var/folders/9c/7bqqxzp11xx4mn0mks5l_b3h0000gn/T/ipykernel_8987/1641724436.py\u001b[0m in \u001b[0;36mfit\u001b[0;34m(self, X_train, y_train, epochs, learning_rate)\u001b[0m\n\u001b[1;32m     60\u001b[0m                 \u001b[0merror\u001b[0m \u001b[0;34m=\u001b[0m \u001b[0mself\u001b[0m\u001b[0;34m.\u001b[0m\u001b[0mloss_derivative\u001b[0m\u001b[0;34m(\u001b[0m\u001b[0my_train\u001b[0m\u001b[0;34m[\u001b[0m\u001b[0mj\u001b[0m\u001b[0;34m]\u001b[0m\u001b[0;34m,\u001b[0m \u001b[0moutput\u001b[0m\u001b[0;34m)\u001b[0m\u001b[0;34m\u001b[0m\u001b[0;34m\u001b[0m\u001b[0m\n\u001b[1;32m     61\u001b[0m                 \u001b[0;32mfor\u001b[0m \u001b[0mlayer\u001b[0m \u001b[0;32min\u001b[0m \u001b[0mreversed\u001b[0m\u001b[0;34m(\u001b[0m\u001b[0mself\u001b[0m\u001b[0;34m.\u001b[0m\u001b[0mlayers\u001b[0m\u001b[0;34m)\u001b[0m\u001b[0;34m:\u001b[0m\u001b[0;34m\u001b[0m\u001b[0;34m\u001b[0m\u001b[0m\n\u001b[0;32m---> 62\u001b[0;31m                     \u001b[0merror\u001b[0m \u001b[0;34m=\u001b[0m \u001b[0mlayer\u001b[0m\u001b[0;34m.\u001b[0m\u001b[0mbackprop\u001b[0m\u001b[0;34m(\u001b[0m\u001b[0merror\u001b[0m\u001b[0;34m,\u001b[0m \u001b[0mlearning_rate\u001b[0m\u001b[0;34m)\u001b[0m\u001b[0;34m\u001b[0m\u001b[0;34m\u001b[0m\u001b[0m\n\u001b[0m\u001b[1;32m     63\u001b[0m \u001b[0;34m\u001b[0m\u001b[0m\n\u001b[1;32m     64\u001b[0m                 \u001b[0;31m# update learning_rate\u001b[0m\u001b[0;34m\u001b[0m\u001b[0;34m\u001b[0m\u001b[0;34m\u001b[0m\u001b[0m\n",
      "\u001b[0;32m/var/folders/9c/7bqqxzp11xx4mn0mks5l_b3h0000gn/T/ipykernel_8987/1663074970.py\u001b[0m in \u001b[0;36mbackprop\u001b[0;34m(self, output_error, learning_rate)\u001b[0m\n\u001b[1;32m     28\u001b[0m         \"\"\"\n\u001b[1;32m     29\u001b[0m         \u001b[0minput_error\u001b[0m \u001b[0;34m=\u001b[0m \u001b[0mnp\u001b[0m\u001b[0;34m.\u001b[0m\u001b[0mdot\u001b[0m\u001b[0;34m(\u001b[0m\u001b[0moutput_error\u001b[0m\u001b[0;34m,\u001b[0m \u001b[0mself\u001b[0m\u001b[0;34m.\u001b[0m\u001b[0mweights\u001b[0m\u001b[0;34m.\u001b[0m\u001b[0mT\u001b[0m\u001b[0;34m)\u001b[0m\u001b[0;34m\u001b[0m\u001b[0;34m\u001b[0m\u001b[0m\n\u001b[0;32m---> 30\u001b[0;31m         \u001b[0mweights_error\u001b[0m \u001b[0;34m=\u001b[0m \u001b[0mnp\u001b[0m\u001b[0;34m.\u001b[0m\u001b[0mdot\u001b[0m\u001b[0;34m(\u001b[0m\u001b[0mself\u001b[0m\u001b[0;34m.\u001b[0m\u001b[0minput\u001b[0m\u001b[0;34m.\u001b[0m\u001b[0mT\u001b[0m\u001b[0;34m,\u001b[0m \u001b[0moutput_error\u001b[0m\u001b[0;34m)\u001b[0m\u001b[0;34m\u001b[0m\u001b[0;34m\u001b[0m\u001b[0m\n\u001b[0m\u001b[1;32m     31\u001b[0m \u001b[0;34m\u001b[0m\u001b[0m\n\u001b[1;32m     32\u001b[0m         \u001b[0;31m# update weights and biases using learning rate\u001b[0m\u001b[0;34m\u001b[0m\u001b[0;34m\u001b[0m\u001b[0;34m\u001b[0m\u001b[0m\n",
      "\u001b[0;32m<__array_function__ internals>\u001b[0m in \u001b[0;36mdot\u001b[0;34m(*args, **kwargs)\u001b[0m\n",
      "\u001b[0;31mValueError\u001b[0m: shapes (4,) and (1,16) not aligned: 4 (dim 0) != 1 (dim 0)"
     ]
    }
   ],
   "source": [
    "model.use(mse, mse_prime)\n",
    "model.fit(np.array(X_train), np.array(y_train), epochs=15, learning_rate=0.1)"
   ]
  }
 ],
 "metadata": {
  "kernelspec": {
   "display_name": "Python 3 (ipykernel)",
   "language": "python",
   "name": "python3"
  },
  "language_info": {
   "codemirror_mode": {
    "name": "ipython",
    "version": 3
   },
   "file_extension": ".py",
   "mimetype": "text/x-python",
   "name": "python",
   "nbconvert_exporter": "python",
   "pygments_lexer": "ipython3",
   "version": "3.8.8"
  }
 },
 "nbformat": 4,
 "nbformat_minor": 5
}
